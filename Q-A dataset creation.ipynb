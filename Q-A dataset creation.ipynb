{
 "cells": [
  {
   "cell_type": "markdown",
   "metadata": {},
   "source": [
    "### Q-A dataset creation\n",
    "\n",
    "As we need to get some output based on some pre-training or fine-tuning this model, so we do need to have a Q-A dataset that belongs to our use case.\n",
    "\n",
    "What I come out with idea is that we could pre-define some pattern or intents that contain some useful information, that means that we could pre-define some pattern and fill them with the movies information."
   ]
  },
  {
   "cell_type": "code",
   "execution_count": 3,
   "metadata": {},
   "outputs": [
    {
     "name": "stdout",
     "output_type": "stream",
     "text": [
      "250\n"
     ]
    }
   ],
   "source": [
    "# first let's try to get full dataset that we have\n",
    "from pymongo import MongoClient\n",
    "\n",
    "client = MongoClient(\"localhost\", 27017)\n",
    "\n",
    "# create a db and a new collection\n",
    "db = client.movie_info\n",
    "collection = db.top_movies\n",
    "\n",
    "res = collection.find()\n",
    "\n",
    "mongo_out = []\n",
    "try:\n",
    "    while res:\n",
    "        mongo_out.append(res.next())\n",
    "except:\n",
    "    pass\n",
    "\n",
    "# remove mongo _id index\n",
    "for i in range(len(mongo_out)):\n",
    "    mongo_out[i].pop(\"_id\")\n",
    "\n",
    "print(len(mongo_out))    "
   ]
  },
  {
   "cell_type": "markdown",
   "metadata": {},
   "source": [
    "#### Define intents\n"
   ]
  },
  {
   "cell_type": "code",
   "execution_count": 9,
   "metadata": {},
   "outputs": [],
   "source": [
    "intents = [\"name\", \"year\", \"alias\", \"duration\", 'direct_en', 'actor_en', 'writer_en', 'short_disc_en']"
   ]
  },
  {
   "cell_type": "code",
   "execution_count": null,
   "metadata": {},
   "outputs": [],
   "source": []
  },
  {
   "cell_type": "code",
   "execution_count": 8,
   "metadata": {},
   "outputs": [
    {
     "data": {
      "text/plain": [
       "{'movie_name': '肖申克的救赎',\n",
       " 'movie_info': {'originalName': 'The Shawshank Redemption',\n",
       "  'doubanRating': '9.7',\n",
       "  'year': '1994',\n",
       "  'duration': 8520,\n",
       "  'alias': ['月黑高飞(港)', '刺激1995(台)', '地狱诺言', '铁窗岁月', '消香克的救赎'],\n",
       "  'director_cn': ['弗兰克·德拉邦特'],\n",
       "  'director_en': ['Frank Darabont'],\n",
       "  'actor_cn': ['蒂姆·罗宾斯',\n",
       "   '摩根·弗里曼',\n",
       "   '鲍勃·冈顿',\n",
       "   '威廉姆·赛德勒',\n",
       "   '克兰西·布朗',\n",
       "   '吉尔·贝罗斯',\n",
       "   '马克·罗斯顿',\n",
       "   '詹姆斯·惠特摩',\n",
       "   '杰弗里·德曼',\n",
       "   '拉里·布兰登伯格',\n",
       "   '尼尔·吉恩托利',\n",
       "   '布赖恩·利比',\n",
       "   '大卫·普罗瓦尔',\n",
       "   '约瑟夫·劳格诺',\n",
       "   '祖德·塞克利拉',\n",
       "   '保罗·麦克兰尼',\n",
       "   '芮妮·布莱恩',\n",
       "   '阿方索·弗里曼',\n",
       "   'V·J·福斯特',\n",
       "   '弗兰克·梅德拉诺',\n",
       "   '马克·迈尔斯',\n",
       "   '尼尔·萨默斯',\n",
       "   '耐德·巴拉米',\n",
       "   '布赖恩·戴拉特',\n",
       "   '唐·麦克马纳斯'],\n",
       "  'actor_en': ['Tim Robbins',\n",
       "   'Morgan Freeman',\n",
       "   'Bob Gunton',\n",
       "   'William Sadler',\n",
       "   'Clancy Brown',\n",
       "   'Gil Bellows',\n",
       "   'Mark Rolston',\n",
       "   'James Whitmore',\n",
       "   'Jeffrey DeMunn',\n",
       "   'Larry Brandenburg',\n",
       "   'Neil Giuntoli',\n",
       "   'Brian Libby',\n",
       "   'David Proval',\n",
       "   'Joseph Ragno',\n",
       "   'Jude Ciccolella',\n",
       "   'Paul McCrane',\n",
       "   'Renee Blaine',\n",
       "   'Alfonso Freeman',\n",
       "   'V.J. Foster',\n",
       "   'Frank Medrano',\n",
       "   'Mack Miles',\n",
       "   'Neil Summers',\n",
       "   'Ned Bellamy',\n",
       "   'Brian Delate',\n",
       "   'Don McManus'],\n",
       "  'writer_cn': ['斯蒂芬·金', '弗兰克·德拉邦特'],\n",
       "  'writer_en': ['Stephen King', 'Frank Darabont'],\n",
       "  'short_disc_cn': '20世纪40年代末，小有成就的青年银行家安迪（蒂姆·罗宾斯 Tim Robbins 饰）因涉嫌杀害妻子及她的情人而锒铛入狱。在这座名为鲨堡的监狱内，希望似乎虚无缥缈，终身监禁的惩罚无疑注定了安迪接下来...',\n",
       "  'short_disc_en': 'Two imprisoned men bond over a number of years, finding solace and eventual redemption through acts of common decency.'}}"
      ]
     },
     "execution_count": 8,
     "metadata": {},
     "output_type": "execute_result"
    }
   ],
   "source": [
    "mongo_out[0]"
   ]
  }
 ],
 "metadata": {
  "kernelspec": {
   "display_name": "Python 3 (ipykernel)",
   "language": "python",
   "name": "python3"
  },
  "language_info": {
   "codemirror_mode": {
    "name": "ipython",
    "version": 3
   },
   "file_extension": ".py",
   "mimetype": "text/x-python",
   "name": "python",
   "nbconvert_exporter": "python",
   "pygments_lexer": "ipython3",
   "version": "3.7.1"
  }
 },
 "nbformat": 4,
 "nbformat_minor": 4
}
