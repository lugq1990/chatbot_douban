{
 "cells": [
  {
   "cell_type": "markdown",
   "id": "9aec63bb-e8c9-4e1c-99bc-3d6ea6d8d2d1",
   "metadata": {},
   "source": [
    "### Movie diaglog data processing\n",
    "\n",
    "This is to process the [Cornell movie dataset](https://www.cs.cornell.edu/~cristian/Cornell_Movie-Dialogs_Corpus.html) that to construct the real diaglog."
   ]
  },
  {
   "cell_type": "code",
   "execution_count": 1,
   "id": "9379c92f-4299-41bf-983f-e9e6b7cefb61",
   "metadata": {},
   "outputs": [
    {
     "name": "stdout",
     "output_type": "stream",
     "text": [
      "['movie_characters_metadata.txt', 'movie_conversations.txt', 'movie_lines.txt', 'movie_titles_metadata.txt', 'raw_script_urls.txt', 'README.txt']\n"
     ]
    }
   ],
   "source": [
    "import os\n",
    "\n",
    "files = [x for x in os.listdir() if x.endswith(\".txt\") and not x.lower().startswith('reamde')]\n",
    "print(files)"
   ]
  },
  {
   "cell_type": "code",
   "execution_count": 12,
   "id": "b960447b-549a-4f40-a87d-785aa97ef612",
   "metadata": {},
   "outputs": [],
   "source": [
    "def open_file(file_name):\n",
    "    with open(file_name, 'r') as f:\n",
    "        data = f.readlines()\n",
    "    return data\n",
    "\n",
    "\n",
    "def samples(data):\n",
    "    print(\"There are {} lines.\".format(len(data)))\n",
    "    print(\"Get some sample:\")\n",
    "    print(\"\\n\".join(data[:5]))\n",
    "    \n",
    "split_value = \" +++$+++ \""
   ]
  },
  {
   "cell_type": "markdown",
   "id": "9a238501-039d-4347-a621-9ac14f86cd0d",
   "metadata": {},
   "source": [
    "- movie_conversations.txt\n",
    "\t- the structure of the conversations\n",
    "\t- fields\n",
    "\t\t- characterID of the first character involved in the conversation\n",
    "\t\t- characterID of the second character involved in the conversation\n",
    "\t\t- movieID of the movie in which the conversation occurred\n",
    "\t\t- list of the utterances that make the conversation, in chronological \n",
    "\t\t\torder: ['lineID1','lineID2',É,'lineIDN']\n",
    "\t\t\thas to be matched with movie_lines.txt to reconstruct the actual content"
   ]
  },
  {
   "cell_type": "code",
   "execution_count": 8,
   "id": "e25575f0-6d04-46f1-bc35-ea602b2c260a",
   "metadata": {},
   "outputs": [
    {
     "name": "stdout",
     "output_type": "stream",
     "text": [
      "There are 83097 lines.\n",
      "Get some sample:\n",
      "u0 +++$+++ u2 +++$+++ m0 +++$+++ ['L194', 'L195', 'L196', 'L197']\n",
      "\n",
      "u0 +++$+++ u2 +++$+++ m0 +++$+++ ['L198', 'L199']\n",
      "\n",
      "u0 +++$+++ u2 +++$+++ m0 +++$+++ ['L200', 'L201', 'L202', 'L203']\n",
      "\n",
      "u0 +++$+++ u2 +++$+++ m0 +++$+++ ['L204', 'L205', 'L206']\n",
      "\n",
      "u0 +++$+++ u2 +++$+++ m0 +++$+++ ['L207', 'L208']\n",
      "\n"
     ]
    }
   ],
   "source": [
    "# read movie_conversations.txt that contain the diaglog\n",
    "conversation = open_file(\"movie_conversations.txt\")\n",
    "\n",
    "samples(conversation)"
   ]
  },
  {
   "cell_type": "markdown",
   "id": "69344878-8ebb-4ca8-8942-55bcab01b92c",
   "metadata": {},
   "source": [
    "Notes: `u` means `user`, `m` means `movie`, list of string is real conversation. To get real conversation should open `movie_lines.txt`.\n",
    "\n",
    "\n",
    "- movie_lines.txt\n",
    "\t- contains the actual text of each utterance\n",
    "\t- fields:\n",
    "\t\t- lineID\n",
    "\t\t- characterID (who uttered this phrase)\n",
    "\t\t- movieID\n",
    "\t\t- character name\n",
    "\t\t- text of the utterance\n"
   ]
  },
  {
   "cell_type": "code",
   "execution_count": 10,
   "id": "d88b2754-cbc9-42b5-87d2-e82b70542e7e",
   "metadata": {},
   "outputs": [
    {
     "name": "stdout",
     "output_type": "stream",
     "text": [
      "There are 304713 lines.\n",
      "Get some sample:\n",
      "L1045 +++$+++ u0 +++$+++ m0 +++$+++ BIANCA +++$+++ They do not!\n",
      "\n",
      "L1044 +++$+++ u2 +++$+++ m0 +++$+++ CAMERON +++$+++ They do to!\n",
      "\n",
      "L985 +++$+++ u0 +++$+++ m0 +++$+++ BIANCA +++$+++ I hope so.\n",
      "\n",
      "L984 +++$+++ u2 +++$+++ m0 +++$+++ CAMERON +++$+++ She okay?\n",
      "\n",
      "L925 +++$+++ u0 +++$+++ m0 +++$+++ BIANCA +++$+++ Let's go.\n",
      "\n"
     ]
    }
   ],
   "source": [
    "# open `movie_lines.txt`\n",
    "movie_lines = open_file(\"movie_lines.txt\")\n",
    "\n",
    "samples(movie_lines)"
   ]
  },
  {
   "cell_type": "code",
   "execution_count": 14,
   "id": "0d77d542-84f2-4e6b-b851-b166de9e422c",
   "metadata": {},
   "outputs": [
    {
     "name": "stdout",
     "output_type": "stream",
     "text": [
      "304713\n"
     ]
    }
   ],
   "source": [
    "# get a dict to get line and real text\n",
    "movie_line_dict = {}\n",
    "\n",
    "for i in range(len(movie_lines)):\n",
    "    s = movie_lines[i]\n",
    "    s_split = s.split(split_value)\n",
    "    movie_line_dict[s_split[0]] = s_split[-1].replace(\"\\n\", '')\n",
    "    \n",
    "print(len(movie_line_dict))"
   ]
  },
  {
   "cell_type": "code",
   "execution_count": 28,
   "id": "d4a3e954-3711-4b12-8fe1-8bee2dc580e1",
   "metadata": {},
   "outputs": [],
   "source": [
    "# function to read get a list from real list string\n",
    "get_list_from_str  = lambda c: [x.replace(\"[\", '').replace(']', '').strip().replace(\"'\", '') for x in c.split(split_value)[-1].replace(\"\\n\", \"\").split(\",\")]"
   ]
  },
  {
   "cell_type": "code",
   "execution_count": 30,
   "id": "295acdd2-e7f6-49be-81f8-5f956d86f585",
   "metadata": {},
   "outputs": [],
   "source": [
    "# get real convert conversation\n",
    "real_conversation_list = []\n",
    "\n",
    "for i in range(len(conversation)):\n",
    "    c = conversation[i]\n",
    "    c_list = get_list_from_str(c)\n",
    "    \n",
    "    out_con = [movie_line_dict.get(x, '') for x in c_list]\n",
    "    real_conversation_list.append(out_con)"
   ]
  },
  {
   "cell_type": "code",
   "execution_count": 34,
   "id": "56778338-0d20-41fa-b585-03803a3dced0",
   "metadata": {},
   "outputs": [
    {
     "name": "stdout",
     "output_type": "stream",
     "text": [
      "There are 83097 conversations.\n"
     ]
    }
   ],
   "source": [
    "print(\"There are {} conversations.\".format(len(real_conversation_list)))"
   ]
  },
  {
   "cell_type": "code",
   "execution_count": 33,
   "id": "99e4375f-d05b-45c4-a8fc-40f9127e2dc7",
   "metadata": {},
   "outputs": [
    {
     "data": {
      "text/plain": [
       "[['Can we make this quick?  Roxanne Korrine and Andrew Barrett are having an incredibly horrendous public break- up on the quad.  Again.',\n",
       "  \"Well, I thought we'd start with pronunciation, if that's okay with you.\",\n",
       "  'Not the hacking and gagging and spitting part.  Please.',\n",
       "  \"Okay... then how 'bout we try out some French cuisine.  Saturday?  Night?\"],\n",
       " [\"You're asking me out.  That's so cute. What's your name again?\",\n",
       "  'Forget it.'],\n",
       " [\"No, no, it's my fault -- we didn't have a proper introduction ---\",\n",
       "  'Cameron.',\n",
       "  \"The thing is, Cameron -- I'm at the mercy of a particularly hideous breed of loser.  My sister.  I can't date until she does.\",\n",
       "  'Seems like she could get a date easy enough...'],\n",
       " ['Why?',\n",
       "  'Unsolved mystery.  She used to be really popular when she started high school, then it was just like she got sick of it or something.',\n",
       "  \"That's a shame.\"],\n",
       " ['Gosh, if only we could find Kat a boyfriend...',\n",
       "  'Let me see what I can do.']]"
      ]
     },
     "execution_count": 33,
     "metadata": {},
     "output_type": "execute_result"
    }
   ],
   "source": [
    "real_conversation_list[:5]"
   ]
  },
  {
   "cell_type": "code",
   "execution_count": 36,
   "id": "3b4ddd48-c0e9-4b2a-961c-b17f31958488",
   "metadata": {},
   "outputs": [],
   "source": [
    "# Let's try to dump this list into server for future use case\n",
    "with open(\"processed_movie_diaglog.txt\", 'w', encoding='utf-8') as f:\n",
    "    for con in real_conversation_list:\n",
    "        for sen in con:\n",
    "            f.write(sen + \"\\n\")"
   ]
  },
  {
   "cell_type": "code",
   "execution_count": null,
   "id": "dff4ea51-da6f-4ae8-a719-d792d6676d54",
   "metadata": {},
   "outputs": [],
   "source": []
  }
 ],
 "metadata": {
  "kernelspec": {
   "display_name": "Python 3 (ipykernel)",
   "language": "python",
   "name": "python3"
  },
  "language_info": {
   "codemirror_mode": {
    "name": "ipython",
    "version": 3
   },
   "file_extension": ".py",
   "mimetype": "text/x-python",
   "name": "python",
   "nbconvert_exporter": "python",
   "pygments_lexer": "ipython3",
   "version": "3.7.1"
  }
 },
 "nbformat": 4,
 "nbformat_minor": 5
}
