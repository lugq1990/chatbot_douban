{
 "cells": [
  {
   "cell_type": "markdown",
   "id": "e3203b1f-e280-4b17-9d36-b6b09b6d37f9",
   "metadata": {},
   "source": [
    "### Overview\n",
    "\n",
    "Use Selenium and call requests to extract movie information, and get movie data with other API, dump them into disk.\n",
    "\n",
    "Processed data should be stored into MongoDB to persist data into DB."
   ]
  },
  {
   "cell_type": "code",
   "execution_count": 48,
   "id": "5c5ac715-14e0-4aa9-8488-69844be07f04",
   "metadata": {},
   "outputs": [],
   "source": [
    "import re\n",
    "from bs4 import BeautifulSoup\n",
    "import requests\n",
    "import time\n",
    "import os\n",
    "from selenium import webdriver\n",
    "from webdriver_manager.chrome import ChromeDriverManager\n",
    "import json\n",
    "import warnings\n",
    "\n",
    "warnings.simplefilter(\"ignore\")\n",
    "\n",
    "\n",
    "class DoubanSplider:\n",
    "    def __init__(self) -> None:\n",
    "        self.base_top_url = \"https://movie.douban.com/top250?start={}&filter=\"\n",
    "        self.headers = {'User-Agent': 'Mozilla/5.0'}\n",
    "        self.driver = webdriver.Chrome(ChromeDriverManager().install())\n",
    "\n",
    "    def get_response(self, url):\n",
    "        response = requests.get(url, headers=self.headers)\n",
    "\n",
    "        if response.status_code != 200:\n",
    "            print(\"Get some error from request! As error code is {}\".format(response.status_code))\n",
    "        \n",
    "        bs = BeautifulSoup(response.content, 'html.parser')\n",
    "        time.sleep(.2)\n",
    "        return bs\n",
    "    \n",
    "    def get_response_with_driver(self, url):\n",
    "        self.driver.get(url)\n",
    "        \n",
    "        bs = BeautifulSoup(self.driver.page_source, 'html.parser')\n",
    "        time.sleep(.1)\n",
    "        return bs\n",
    "\n",
    "    def get_top250_links(self):\n",
    "        each_page = 25\n",
    "        full_n = 250\n",
    "        res_tuple = []\n",
    "\n",
    "        for i in range(int(full_n/each_page)):\n",
    "            print(\"Now if page: {}\".format(i))\n",
    "            bs = self.get_response_with_driver(self.base_top_url.format(i * each_page))\n",
    "\n",
    "            # find each page items\n",
    "            items = bs.find_all('div', class_='item')\n",
    "            for item in items:\n",
    "                each_item_info = self._get_top_content(item)\n",
    "                res_tuple.append(each_item_info)\n",
    "\n",
    "        return res_tuple\n",
    "        \n",
    "        \n",
    "    @staticmethod\n",
    "    def save_list_into_file(obj_list, file_name, file_path=None):\n",
    "        if not file_path:\n",
    "            file_path = 'tmp_data'\n",
    "        \n",
    "        if file_name.find('.') == -1:\n",
    "            file_name += '.txt'\n",
    "        \n",
    "        with open(os.path.join(file_path, file_name), 'w', encoding='utf-8') as f:\n",
    "            for obj in obj_list:\n",
    "                if isinstance(obj, list) or isinstance(obj, tuple):\n",
    "                    f.write(','.join(obj) + '\\n')\n",
    "                else:\n",
    "                    f.write(obj + '\\n')\n",
    "\n",
    "    @staticmethod\n",
    "    def _get_top_content(item):\n",
    "        title = item.find(class_='hd').find(class_='title').get_text()\n",
    "        url = item.find(class_='hd').find('a').get('href')\n",
    "        score = item.find_all(\"span\", class_='rating_num')[0].get_text()\n",
    "        n_users = item.find_all(\"span\")[-2].get_text()\n",
    "        return (title, score, n_users, url)\n",
    "\n",
    "    def get_movie_base_info(self):\n",
    "        \"\"\"\n",
    "        get_movie_base_info Just to use a open source link to get sample data based on movie ID.\n",
    "        \"\"\"\n",
    "        base_api_url = \"https://movie.querydata.org/api?id={}\"\n",
    "\n",
    "        # get full ids with movie name\n",
    "        with open(os.path.join('tmp_data', 'top250_link.txt'), 'r', encoding='utf-8') as f:\n",
    "            data_line = f.readlines()\n",
    "\n",
    "        movie_info_dict = {}\n",
    "        for data in data_line:\n",
    "            id = data.split(',')[-1].split(\"/\")[-2]\n",
    "            movie_name = data.split(',')[0]\n",
    "            response = requests.get(base_api_url.format(id)).text\n",
    "            movie_info_dict[movie_name] = response\n",
    "        \n",
    "        return movie_info_dict\n"
   ]
  },
  {
   "cell_type": "code",
   "execution_count": 3,
   "id": "e134b0b1-1029-4224-88a0-45433be13997",
   "metadata": {},
   "outputs": [
    {
     "name": "stderr",
     "output_type": "stream",
     "text": [
      "[WDM] - \n",
      "\n",
      "[WDM] - ====== WebDriver manager ======\n",
      "[WDM] - Current google-chrome version is 94.0.4606\n",
      "[WDM] - Get LATEST driver version for 94.0.4606\n",
      "[WDM] - Driver [C:\\Users\\guangqiang.lu\\.wdm\\drivers\\chromedriver\\win32\\94.0.4606.61\\chromedriver.exe] found in cache\n",
      "C:\\Users\\Public\\Anaconda3\\envs\\automl\\lib\\site-packages\\ipykernel_launcher.py:15: DeprecationWarning: executable_path has been deprecated, please pass in a Service object\n",
      "  from ipykernel import kernelapp as app\n"
     ]
    }
   ],
   "source": [
    "splider = DoubanSplider()"
   ]
  },
  {
   "cell_type": "code",
   "execution_count": 5,
   "id": "05d08d5a-a2b5-4236-b00f-bf1dc6ed2c6e",
   "metadata": {},
   "outputs": [],
   "source": [
    "# process with API\n",
    "base_api_url = \"https://movie.querydata.org/api?id={}\"\n",
    "\n",
    "# get full ids with movie name\n",
    "with open(os.path.join('tmp_data', 'top250_link.txt'), 'r', encoding='utf-8') as f:\n",
    "    data_line = f.readlines()"
   ]
  },
  {
   "cell_type": "code",
   "execution_count": 67,
   "id": "d046efee-5297-4a7d-8f5b-99daa78dbd04",
   "metadata": {},
   "outputs": [],
   "source": [
    "# get already download info file\n",
    "def get_file_content(file_name, file_path='tmp_data', data_type='json'):\n",
    "    with open(os.path.join(file_path, file_name), 'r', encoding='utf-8') as f:\n",
    "        if data_type =='json':\n",
    "            data = json.loads(f.read())\n",
    "        else:\n",
    "            data = f.readlines()\n",
    "    \n",
    "    return data\n"
   ]
  },
  {
   "cell_type": "code",
   "execution_count": 70,
   "id": "0ee6964f-6c47-4421-b535-fbda3ed10ffc",
   "metadata": {},
   "outputs": [
    {
     "data": {
      "text/plain": [
       "250"
      ]
     },
     "execution_count": 70,
     "metadata": {},
     "output_type": "execute_result"
    }
   ],
   "source": [
    "already_processed_data = get_file_content(\"already_processed.txt\")\n",
    "\n",
    "len(already_processed_data.keys())"
   ]
  },
  {
   "cell_type": "code",
   "execution_count": null,
   "id": "bff52f23-3652-4131-baaf-04e7bd553de0",
   "metadata": {},
   "outputs": [],
   "source": [
    "# get each movie with API call, it takes times to do this!\n",
    "base_api_url = \"https://movie.querydata.org/api?id={}\"\n",
    "\n",
    "# get full ids with movie name\n",
    "with open(os.path.join('tmp_data', 'top250_link.txt'), 'r', encoding='utf-8') as f:\n",
    "    data_line = f.readlines()\n",
    "\n",
    "movie_info_dict = {}\n",
    "for data in data_line:\n",
    "    id = data.split(',')[-1].split(\"/\")[-2]\n",
    "    movie_name = data.split(',')[0]\n",
    "    if movie_name in already_get_movies:\n",
    "        continue\n",
    "    response = requests.get(base_api_url.format(id)).text\n",
    "    movie_info_dict[movie_name] = response"
   ]
  },
  {
   "cell_type": "code",
   "execution_count": 82,
   "id": "14bd15b1-18e2-4050-8e77-4d241403e9bb",
   "metadata": {},
   "outputs": [],
   "source": [
    "# do data extration for what we need from output\n",
    "# what we need to get: movie name, alias, rating etc.\n",
    "\n",
    "def get_dict_for_each_dict_sample(sample_dict):\n",
    "    needed_keys = ['originalName',  'doubanRating', 'year', 'duration']\n",
    "    extracted_list_keys = [ 'director', 'actor', 'writer']\n",
    "\n",
    "    out_dict = {}\n",
    "    for k in needed_keys:\n",
    "        out_dict[k] = sample_dict.get(k)\n",
    "    \n",
    "    # change alis to list\n",
    "    if sample_dict.get(\"alias\"):\n",
    "        out_dict['alias'] = [t.strip() for t in sample_dict.get('alias').split(\"/\")]\n",
    "    \n",
    "    def _extract_list_data(sample_dict, key, out_key):\n",
    "        \"\"\"only for  'director', 'actor', 'writer'\"\"\"\n",
    "        key_dict = {}\n",
    "        sample_data = sample_dict.get(key)\n",
    "\n",
    "        ch_info_list = []\n",
    "        en_info_list = []\n",
    "        for res in sample_data:\n",
    "            if 'data' in res.keys():\n",
    "                res = res.get(\"data\")\n",
    "            for data in res:\n",
    "                if data.get('lang') == 'Cn':\n",
    "                    ch_info_list.append(data.get(\"name\"))\n",
    "\n",
    "                if data.get('lang') == 'En':\n",
    "                    en_info_list.append(data.get(\"name\"))\n",
    "\n",
    "        if ch_info_list:\n",
    "            key_dict[out_key + \"_cn\"] = ch_info_list\n",
    "\n",
    "        if en_info_list:\n",
    "            key_dict[out_key + \"_en\"] = en_info_list\n",
    "\n",
    "        return key_dict\n",
    "\n",
    "    # add with list of basic information\n",
    "    for k in extracted_list_keys:\n",
    "        out_dict.update(_extract_list_data(sample_dict, k, k))\n",
    "\n",
    "    # add with short dis\n",
    "    for short in sample_dict.get(\"data\"):\n",
    "        if short.get(\"lang\") == 'Cn':\n",
    "            out_dict[\"short_disc_cn\"] = short.get(\"description\")\n",
    "        if short.get(\"lang\") == 'En':\n",
    "            out_dict[\"short_disc_en\"] = short.get(\"description\")\n",
    "            \n",
    "    return out_dict"
   ]
  },
  {
   "cell_type": "code",
   "execution_count": 92,
   "id": "0bb30db6-b467-45ab-8168-c8a3f32eab43",
   "metadata": {},
   "outputs": [],
   "source": [
    "final_out_dict = {}\n",
    "\n",
    "for i, d in enumerate(already_processed_data.items()):\n",
    "    name, value_dic = d\n",
    "    value_dic = json.loads(value_dic)\n",
    "    out_dict = get_dict_for_each_dict_sample(value_dic)\n",
    "    final_out_dict[name] = out_dict "
   ]
  },
  {
   "cell_type": "code",
   "execution_count": 93,
   "id": "d8768a63-4d02-4711-bc26-68e2c6311661",
   "metadata": {},
   "outputs": [],
   "source": [
    "# dump json into disk\n",
    "with open(os.path.join(\"tmp_data\", \"data_export.json\"), 'w', encoding='utf-8') as f:\n",
    "    f.write(json.dumps(final_out_dict))"
   ]
  },
  {
   "cell_type": "code",
   "execution_count": 99,
   "id": "629b01af-8f16-412e-845e-09e4f2226fcc",
   "metadata": {},
   "outputs": [
    {
     "data": {
      "text/plain": [
       "{'originalName': 'The Shawshank Redemption',\n",
       " 'doubanRating': '9.7',\n",
       " 'year': '1994',\n",
       " 'duration': 8520,\n",
       " 'alias': ['月黑高飞(港)', '刺激1995(台)', '地狱诺言', '铁窗岁月', '消香克的救赎'],\n",
       " 'director_cn': ['弗兰克·德拉邦特'],\n",
       " 'director_en': ['Frank Darabont'],\n",
       " 'actor_cn': ['蒂姆·罗宾斯',\n",
       "  '摩根·弗里曼',\n",
       "  '鲍勃·冈顿',\n",
       "  '威廉姆·赛德勒',\n",
       "  '克兰西·布朗',\n",
       "  '吉尔·贝罗斯',\n",
       "  '马克·罗斯顿',\n",
       "  '詹姆斯·惠特摩',\n",
       "  '杰弗里·德曼',\n",
       "  '拉里·布兰登伯格',\n",
       "  '尼尔·吉恩托利',\n",
       "  '布赖恩·利比',\n",
       "  '大卫·普罗瓦尔',\n",
       "  '约瑟夫·劳格诺',\n",
       "  '祖德·塞克利拉',\n",
       "  '保罗·麦克兰尼',\n",
       "  '芮妮·布莱恩',\n",
       "  '阿方索·弗里曼',\n",
       "  'V·J·福斯特',\n",
       "  '弗兰克·梅德拉诺',\n",
       "  '马克·迈尔斯',\n",
       "  '尼尔·萨默斯',\n",
       "  '耐德·巴拉米',\n",
       "  '布赖恩·戴拉特',\n",
       "  '唐·麦克马纳斯'],\n",
       " 'actor_en': ['Tim Robbins',\n",
       "  'Morgan Freeman',\n",
       "  'Bob Gunton',\n",
       "  'William Sadler',\n",
       "  'Clancy Brown',\n",
       "  'Gil Bellows',\n",
       "  'Mark Rolston',\n",
       "  'James Whitmore',\n",
       "  'Jeffrey DeMunn',\n",
       "  'Larry Brandenburg',\n",
       "  'Neil Giuntoli',\n",
       "  'Brian Libby',\n",
       "  'David Proval',\n",
       "  'Joseph Ragno',\n",
       "  'Jude Ciccolella',\n",
       "  'Paul McCrane',\n",
       "  'Renee Blaine',\n",
       "  'Alfonso Freeman',\n",
       "  'V.J. Foster',\n",
       "  'Frank Medrano',\n",
       "  'Mack Miles',\n",
       "  'Neil Summers',\n",
       "  'Ned Bellamy',\n",
       "  'Brian Delate',\n",
       "  'Don McManus'],\n",
       " 'writer_cn': ['斯蒂芬·金', '弗兰克·德拉邦特'],\n",
       " 'writer_en': ['Stephen King', 'Frank Darabont'],\n",
       " 'short_disc_cn': '20世纪40年代末，小有成就的青年银行家安迪（蒂姆·罗宾斯 Tim Robbins 饰）因涉嫌杀害妻子及她的情人而锒铛入狱。在这座名为鲨堡的监狱内，希望似乎虚无缥缈，终身监禁的惩罚无疑注定了安迪接下来...',\n",
       " 'short_disc_en': 'Two imprisoned men bond over a number of years, finding solace and eventual redemption through acts of common decency.'}"
      ]
     },
     "execution_count": 99,
     "metadata": {},
     "output_type": "execute_result"
    }
   ],
   "source": [
    "final_out_dict.get(list(final_out_dict.keys())[0])"
   ]
  },
  {
   "cell_type": "markdown",
   "id": "9c257b80-7f5f-455e-8038-448e00511548",
   "metadata": {},
   "source": [
    "#### Dump data into MongoDB"
   ]
  },
  {
   "cell_type": "code",
   "execution_count": 5,
   "id": "981446b7-650e-474c-8012-9ab4faa4ec92",
   "metadata": {},
   "outputs": [],
   "source": [
    "from pymongo import MongoClient\n",
    "\n",
    "client = MongoClient(\"localhost\", 27017)\n",
    "\n",
    "# create a db and a new collection\n",
    "db = client.movie_info\n",
    "collection = db.top_movies"
   ]
  },
  {
   "cell_type": "code",
   "execution_count": 4,
   "id": "3d6c83c2-ea44-4c96-8ff7-c534fa4bfc3a",
   "metadata": {},
   "outputs": [],
   "source": []
  },
  {
   "cell_type": "code",
   "execution_count": 101,
   "id": "1868cd2e-1844-4446-a8d5-25c5deb42780",
   "metadata": {},
   "outputs": [],
   "source": [
    "# construct a list of json object for mongo\n",
    "mongo_res = []\n",
    "\n",
    "for name, item in final_out_dict.items():\n",
    "    tmp_dic = {}\n",
    "    tmp_dic[\"movie_name\"] = name\n",
    "    tmp_dic[\"movie_info\"] = item\n",
    "    \n",
    "    mongo_res.append(tmp_dic)\n",
    "res = collection.insert_many(mongo_res)"
   ]
  },
  {
   "cell_type": "code",
   "execution_count": 110,
   "id": "66ef0fea-02fa-426c-8786-58146ac4dea2",
   "metadata": {},
   "outputs": [
    {
     "data": {
      "text/plain": [
       "{'_id': ObjectId('616ea2d5378b1533601d8e31'),\n",
       " 'movie_name': '肖申克的救赎',\n",
       " 'movie_info': {'originalName': 'The Shawshank Redemption',\n",
       "  'doubanRating': '9.7',\n",
       "  'year': '1994',\n",
       "  'duration': 8520,\n",
       "  'alias': ['月黑高飞(港)', '刺激1995(台)', '地狱诺言', '铁窗岁月', '消香克的救赎'],\n",
       "  'director_cn': ['弗兰克·德拉邦特'],\n",
       "  'director_en': ['Frank Darabont'],\n",
       "  'actor_cn': ['蒂姆·罗宾斯',\n",
       "   '摩根·弗里曼',\n",
       "   '鲍勃·冈顿',\n",
       "   '威廉姆·赛德勒',\n",
       "   '克兰西·布朗',\n",
       "   '吉尔·贝罗斯',\n",
       "   '马克·罗斯顿',\n",
       "   '詹姆斯·惠特摩',\n",
       "   '杰弗里·德曼',\n",
       "   '拉里·布兰登伯格',\n",
       "   '尼尔·吉恩托利',\n",
       "   '布赖恩·利比',\n",
       "   '大卫·普罗瓦尔',\n",
       "   '约瑟夫·劳格诺',\n",
       "   '祖德·塞克利拉',\n",
       "   '保罗·麦克兰尼',\n",
       "   '芮妮·布莱恩',\n",
       "   '阿方索·弗里曼',\n",
       "   'V·J·福斯特',\n",
       "   '弗兰克·梅德拉诺',\n",
       "   '马克·迈尔斯',\n",
       "   '尼尔·萨默斯',\n",
       "   '耐德·巴拉米',\n",
       "   '布赖恩·戴拉特',\n",
       "   '唐·麦克马纳斯'],\n",
       "  'actor_en': ['Tim Robbins',\n",
       "   'Morgan Freeman',\n",
       "   'Bob Gunton',\n",
       "   'William Sadler',\n",
       "   'Clancy Brown',\n",
       "   'Gil Bellows',\n",
       "   'Mark Rolston',\n",
       "   'James Whitmore',\n",
       "   'Jeffrey DeMunn',\n",
       "   'Larry Brandenburg',\n",
       "   'Neil Giuntoli',\n",
       "   'Brian Libby',\n",
       "   'David Proval',\n",
       "   'Joseph Ragno',\n",
       "   'Jude Ciccolella',\n",
       "   'Paul McCrane',\n",
       "   'Renee Blaine',\n",
       "   'Alfonso Freeman',\n",
       "   'V.J. Foster',\n",
       "   'Frank Medrano',\n",
       "   'Mack Miles',\n",
       "   'Neil Summers',\n",
       "   'Ned Bellamy',\n",
       "   'Brian Delate',\n",
       "   'Don McManus'],\n",
       "  'writer_cn': ['斯蒂芬·金', '弗兰克·德拉邦特'],\n",
       "  'writer_en': ['Stephen King', 'Frank Darabont'],\n",
       "  'short_disc_cn': '20世纪40年代末，小有成就的青年银行家安迪（蒂姆·罗宾斯 Tim Robbins 饰）因涉嫌杀害妻子及她的情人而锒铛入狱。在这座名为鲨堡的监狱内，希望似乎虚无缥缈，终身监禁的惩罚无疑注定了安迪接下来...',\n",
       "  'short_disc_en': 'Two imprisoned men bond over a number of years, finding solace and eventual redemption through acts of common decency.'}}"
      ]
     },
     "execution_count": 110,
     "metadata": {},
     "output_type": "execute_result"
    }
   ],
   "source": [
    "# get result from mongoDB\n",
    "collection.find_one({\"movie_info.doubanRating\":\"9.7\"})"
   ]
  },
  {
   "cell_type": "markdown",
   "id": "ba5ba939-445a-4a76-acc8-9912080472dd",
   "metadata": {},
   "source": [
    "#### Get data from mongoDB"
   ]
  },
  {
   "cell_type": "code",
   "execution_count": 6,
   "id": "0c12ab96-7d30-42f0-a842-b17d97c300ac",
   "metadata": {},
   "outputs": [],
   "source": [
    "from pymongo import MongoClient\n",
    "\n",
    "client = MongoClient(\"localhost\", 27017)\n",
    "\n",
    "# create a db and a new collection\n",
    "db = client.movie_info\n",
    "collection = db.top_movies"
   ]
  },
  {
   "cell_type": "code",
   "execution_count": null,
   "id": "42ff3dec-37bc-4005-a028-41bb1b3e0be0",
   "metadata": {},
   "outputs": [
    {
     "name": "stdout",
     "output_type": "stream",
     "text": [
      "250\n"
     ]
    }
   ],
   "source": [
    "res = collection.find()\n",
    "\n",
    "mongo_out = []\n",
    "try:\n",
    "    while res:\n",
    "        mongo_out.append(res.next())\n",
    "except:\n",
    "    pass\n",
    "\n",
    "# remove mongo _id index\n",
    "for i in range(len(mongo_out)):\n",
    "    mongo_out[i].pop(\"_id\")\n",
    "\n",
    "print(len(mongo_out))    "
   ]
  },
  {
   "cell_type": "code",
   "execution_count": 1,
   "id": "76445633-a8df-4440-8046-c86897a60ea8",
   "metadata": {},
   "outputs": [],
   "source": [
    "from elasticsearch import Elasticsearch\n",
    "\n",
    "es_client = Elasticsearch(\"localhost:9200\")\n"
   ]
  },
  {
   "cell_type": "code",
   "execution_count": 42,
   "id": "513271c7-7569-4a7e-a099-4b2f66689e45",
   "metadata": {},
   "outputs": [
    {
     "name": "stderr",
     "output_type": "stream",
     "text": [
      "C:\\Users\\Public\\Anaconda3\\envs\\automl\\lib\\site-packages\\ipykernel_launcher.py:5: DeprecationWarning: The 'body' parameter is deprecated for the 'index' API and will be removed in a future version. Instead use the 'document' parameter. See https://github.com/elastic/elasticsearch-py/issues/1698 for more information\n",
      "  \"\"\"\n"
     ]
    }
   ],
   "source": [
    "# create ES index for douban movie\n",
    "index_name = \"es_movie\"\n",
    "\n",
    "for i, d in enumerate(mongo_out):\n",
    "    res = es_client.index(index=index_name, body=d, id=i)"
   ]
  },
  {
   "cell_type": "code",
   "execution_count": 49,
   "id": "bdcd12fa-9d3a-4338-b9f4-4c6b6b399873",
   "metadata": {},
   "outputs": [
    {
     "name": "stdout",
     "output_type": "stream",
     "text": [
      "GET 250 result from ES.\n"
     ]
    }
   ],
   "source": [
    "res = es_client.search(index=index_name, query={\"match_all\":{}})\n",
    "print(\"GET {} result from ES.\".format(res['hits']['total']['value']))"
   ]
  },
  {
   "cell_type": "code",
   "execution_count": 52,
   "id": "88add9ab-adda-4a02-b6b5-0eda66c9b5fb",
   "metadata": {},
   "outputs": [
    {
     "name": "stdout",
     "output_type": "stream",
     "text": [
      "肖申克的救赎 | 1994\n",
      "霸王别姬 | 1993\n",
      "阿甘正传 | 1994\n",
      "这个杀手不太冷 | 1994\n",
      "泰坦尼克号 | 1997\n",
      "美丽人生 | 1997\n",
      "千与千寻 | 2001\n",
      "辛德勒的名单 | 1993\n",
      "盗梦空间 | 2010\n",
      "忠犬八公的故事 | 2009\n"
     ]
    }
   ],
   "source": [
    "for hit in res['hits']['hits']:\n",
    "    print(\"{} | {}\".format(hit['_source']['movie_name'], hit['_source']['movie_info']['year']))"
   ]
  },
  {
   "cell_type": "code",
   "execution_count": 53,
   "id": "6f3d1d4f-a7d2-4b0c-b34f-38410b97b692",
   "metadata": {},
   "outputs": [],
   "source": [
    "# try to get result with DSL\n",
    "from elasticsearch_dsl import Search"
   ]
  },
  {
   "cell_type": "code",
   "execution_count": 56,
   "id": "e5081101-8eb4-4fd5-860d-4144968f7a81",
   "metadata": {},
   "outputs": [
    {
     "name": "stdout",
     "output_type": "stream",
     "text": [
      "肖申克的救赎\n",
      "泰坦尼克号\n",
      "辛德勒的名单\n",
      "忠犬八公的故事\n",
      "楚门的世界\n",
      "放牛班的春天\n",
      "哈尔的移动城堡\n",
      "少年派的奇幻漂流\n",
      "穿条纹睡衣的男孩\n",
      "西西里的美丽传说\n"
     ]
    }
   ],
   "source": [
    "response = Search(using=es_client, index=index_name).filter(\"match\", movie_name=\"肖申克的救赎\").execute()\n",
    "\n",
    "for hit in response:\n",
    "    print( hit.movie_name)"
   ]
  },
  {
   "cell_type": "code",
   "execution_count": null,
   "id": "21b4bf95-12d2-4c70-b6c6-7d2a158b99d9",
   "metadata": {},
   "outputs": [],
   "source": []
  }
 ],
 "metadata": {
  "kernelspec": {
   "display_name": "Python 3 (ipykernel)",
   "language": "python",
   "name": "python3"
  },
  "language_info": {
   "codemirror_mode": {
    "name": "ipython",
    "version": 3
   },
   "file_extension": ".py",
   "mimetype": "text/x-python",
   "name": "python",
   "nbconvert_exporter": "python",
   "pygments_lexer": "ipython3",
   "version": "3.7.1"
  }
 },
 "nbformat": 4,
 "nbformat_minor": 5
}
